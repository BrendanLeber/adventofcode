{
 "cells": [
  {
   "cell_type": "code",
   "execution_count": 1,
   "metadata": {},
   "outputs": [],
   "source": [
    "import sys\n",
    "import numpy as np"
   ]
  },
  {
   "cell_type": "code",
   "execution_count": 2,
   "metadata": {},
   "outputs": [],
   "source": [
    "GRID_SERIAL_NUMBER = 5093"
   ]
  },
  {
   "cell_type": "code",
   "execution_count": 3,
   "metadata": {},
   "outputs": [],
   "source": [
    "def power_level(x, y):\n",
    "    rack_id = x + 10\n",
    "    power = rack_id * y\n",
    "    power += GRID_SERIAL_NUMBER\n",
    "    power *= rack_id\n",
    "    power = (power % 1000) // 100\n",
    "    power -= 5\n",
    "    return power"
   ]
  },
  {
   "cell_type": "code",
   "execution_count": 4,
   "metadata": {},
   "outputs": [
    {
     "data": {
      "text/plain": [
       "4"
      ]
     },
     "execution_count": 4,
     "metadata": {},
     "output_type": "execute_result"
    }
   ],
   "source": [
    "power_level(8,1)"
   ]
  },
  {
   "cell_type": "code",
   "execution_count": 5,
   "metadata": {},
   "outputs": [],
   "source": [
    "def racks(grid, cx, cy):\n",
    "    xm, ym = grid.shape\n",
    "    for row in range(0, ym - cx + 1):\n",
    "        for col in range(0, xm - cx + 1):\n",
    "            yield grid[row:row + cy, col:col + cx], col, row"
   ]
  },
  {
   "cell_type": "code",
   "execution_count": 6,
   "metadata": {},
   "outputs": [],
   "source": [
    "grid = np.fromfunction(np.vectorize(power_level), (10, 10))"
   ]
  },
  {
   "cell_type": "code",
   "execution_count": 7,
   "metadata": {},
   "outputs": [
    {
     "data": {
      "text/plain": [
       "array([[ 4., -5., -4., -3., -2., -1.,  0.,  1.,  2.,  3.],\n",
       "       [-5., -4., -3., -2.,  0.,  1.,  2.,  3.,  4., -4.],\n",
       "       [-4., -3., -1.,  0.,  1.,  3.,  4., -4., -3., -1.],\n",
       "       [-3., -2.,  0.,  2.,  3., -5., -3., -2.,  0.,  2.],\n",
       "       [-2., -1.,  1.,  3., -5., -3., -1.,  1.,  3., -5.],\n",
       "       [-2.,  1.,  3., -5., -3.,  0.,  2.,  4., -4., -1.],\n",
       "       [-1.,  2., -5., -3.,  0.,  2., -5., -3.,  0.,  2.],\n",
       "       [ 0.,  3., -4., -1.,  2., -5., -2.,  1.,  3., -4.],\n",
       "       [ 1.,  4., -2.,  1.,  4., -3.,  1.,  4., -3.,  0.],\n",
       "       [ 2., -4., -1.,  3., -3.,  0.,  4., -3.,  1., -5.]])"
      ]
     },
     "execution_count": 7,
     "metadata": {},
     "output_type": "execute_result"
    }
   ],
   "source": [
    "grid"
   ]
  },
  {
   "cell_type": "code",
   "execution_count": 8,
   "metadata": {},
   "outputs": [
    {
     "data": {
      "text/plain": [
       "<generator object racks at 0x7f6e51fe4138>"
      ]
     },
     "execution_count": 8,
     "metadata": {},
     "output_type": "execute_result"
    }
   ],
   "source": [
    "racks(grid, 3, 3)"
   ]
  },
  {
   "cell_type": "code",
   "execution_count": 11,
   "metadata": {},
   "outputs": [
    {
     "name": "stdout",
     "output_type": "stream",
     "text": [
      "0x0 [[ 4. -5. -4.]\n",
      " [-5. -4. -3.]\n",
      " [-4. -3. -1.]]\n",
      "1x0 [[-5. -4. -3.]\n",
      " [-4. -3. -2.]\n",
      " [-3. -1.  0.]]\n",
      "2x0 [[-4. -3. -2.]\n",
      " [-3. -2.  0.]\n",
      " [-1.  0.  1.]]\n",
      "3x0 [[-3. -2. -1.]\n",
      " [-2.  0.  1.]\n",
      " [ 0.  1.  3.]]\n",
      "4x0 [[-2. -1.  0.]\n",
      " [ 0.  1.  2.]\n",
      " [ 1.  3.  4.]]\n",
      "5x0 [[-1.  0.  1.]\n",
      " [ 1.  2.  3.]\n",
      " [ 3.  4. -4.]]\n",
      "6x0 [[ 0.  1.  2.]\n",
      " [ 2.  3.  4.]\n",
      " [ 4. -4. -3.]]\n",
      "7x0 [[ 1.  2.  3.]\n",
      " [ 3.  4. -4.]\n",
      " [-4. -3. -1.]]\n",
      "0x1 [[-5. -4. -3.]\n",
      " [-4. -3. -1.]\n",
      " [-3. -2.  0.]]\n",
      "1x1 [[-4. -3. -2.]\n",
      " [-3. -1.  0.]\n",
      " [-2.  0.  2.]]\n",
      "2x1 [[-3. -2.  0.]\n",
      " [-1.  0.  1.]\n",
      " [ 0.  2.  3.]]\n",
      "3x1 [[-2.  0.  1.]\n",
      " [ 0.  1.  3.]\n",
      " [ 2.  3. -5.]]\n",
      "4x1 [[ 0.  1.  2.]\n",
      " [ 1.  3.  4.]\n",
      " [ 3. -5. -3.]]\n",
      "5x1 [[ 1.  2.  3.]\n",
      " [ 3.  4. -4.]\n",
      " [-5. -3. -2.]]\n",
      "6x1 [[ 2.  3.  4.]\n",
      " [ 4. -4. -3.]\n",
      " [-3. -2.  0.]]\n",
      "7x1 [[ 3.  4. -4.]\n",
      " [-4. -3. -1.]\n",
      " [-2.  0.  2.]]\n",
      "0x2 [[-4. -3. -1.]\n",
      " [-3. -2.  0.]\n",
      " [-2. -1.  1.]]\n",
      "1x2 [[-3. -1.  0.]\n",
      " [-2.  0.  2.]\n",
      " [-1.  1.  3.]]\n",
      "2x2 [[-1.  0.  1.]\n",
      " [ 0.  2.  3.]\n",
      " [ 1.  3. -5.]]\n",
      "3x2 [[ 0.  1.  3.]\n",
      " [ 2.  3. -5.]\n",
      " [ 3. -5. -3.]]\n",
      "4x2 [[ 1.  3.  4.]\n",
      " [ 3. -5. -3.]\n",
      " [-5. -3. -1.]]\n",
      "5x2 [[ 3.  4. -4.]\n",
      " [-5. -3. -2.]\n",
      " [-3. -1.  1.]]\n",
      "6x2 [[ 4. -4. -3.]\n",
      " [-3. -2.  0.]\n",
      " [-1.  1.  3.]]\n",
      "7x2 [[-4. -3. -1.]\n",
      " [-2.  0.  2.]\n",
      " [ 1.  3. -5.]]\n",
      "0x3 [[-3. -2.  0.]\n",
      " [-2. -1.  1.]\n",
      " [-2.  1.  3.]]\n",
      "1x3 [[-2.  0.  2.]\n",
      " [-1.  1.  3.]\n",
      " [ 1.  3. -5.]]\n",
      "2x3 [[ 0.  2.  3.]\n",
      " [ 1.  3. -5.]\n",
      " [ 3. -5. -3.]]\n",
      "3x3 [[ 2.  3. -5.]\n",
      " [ 3. -5. -3.]\n",
      " [-5. -3.  0.]]\n",
      "4x3 [[ 3. -5. -3.]\n",
      " [-5. -3. -1.]\n",
      " [-3.  0.  2.]]\n",
      "5x3 [[-5. -3. -2.]\n",
      " [-3. -1.  1.]\n",
      " [ 0.  2.  4.]]\n",
      "6x3 [[-3. -2.  0.]\n",
      " [-1.  1.  3.]\n",
      " [ 2.  4. -4.]]\n",
      "7x3 [[-2.  0.  2.]\n",
      " [ 1.  3. -5.]\n",
      " [ 4. -4. -1.]]\n",
      "0x4 [[-2. -1.  1.]\n",
      " [-2.  1.  3.]\n",
      " [-1.  2. -5.]]\n",
      "1x4 [[-1.  1.  3.]\n",
      " [ 1.  3. -5.]\n",
      " [ 2. -5. -3.]]\n",
      "2x4 [[ 1.  3. -5.]\n",
      " [ 3. -5. -3.]\n",
      " [-5. -3.  0.]]\n",
      "3x4 [[ 3. -5. -3.]\n",
      " [-5. -3.  0.]\n",
      " [-3.  0.  2.]]\n",
      "4x4 [[-5. -3. -1.]\n",
      " [-3.  0.  2.]\n",
      " [ 0.  2. -5.]]\n",
      "5x4 [[-3. -1.  1.]\n",
      " [ 0.  2.  4.]\n",
      " [ 2. -5. -3.]]\n",
      "6x4 [[-1.  1.  3.]\n",
      " [ 2.  4. -4.]\n",
      " [-5. -3.  0.]]\n",
      "7x4 [[ 1.  3. -5.]\n",
      " [ 4. -4. -1.]\n",
      " [-3.  0.  2.]]\n",
      "0x5 [[-2.  1.  3.]\n",
      " [-1.  2. -5.]\n",
      " [ 0.  3. -4.]]\n",
      "1x5 [[ 1.  3. -5.]\n",
      " [ 2. -5. -3.]\n",
      " [ 3. -4. -1.]]\n",
      "2x5 [[ 3. -5. -3.]\n",
      " [-5. -3.  0.]\n",
      " [-4. -1.  2.]]\n",
      "3x5 [[-5. -3.  0.]\n",
      " [-3.  0.  2.]\n",
      " [-1.  2. -5.]]\n",
      "4x5 [[-3.  0.  2.]\n",
      " [ 0.  2. -5.]\n",
      " [ 2. -5. -2.]]\n",
      "5x5 [[ 0.  2.  4.]\n",
      " [ 2. -5. -3.]\n",
      " [-5. -2.  1.]]\n",
      "6x5 [[ 2.  4. -4.]\n",
      " [-5. -3.  0.]\n",
      " [-2.  1.  3.]]\n",
      "7x5 [[ 4. -4. -1.]\n",
      " [-3.  0.  2.]\n",
      " [ 1.  3. -4.]]\n",
      "0x6 [[-1.  2. -5.]\n",
      " [ 0.  3. -4.]\n",
      " [ 1.  4. -2.]]\n",
      "1x6 [[ 2. -5. -3.]\n",
      " [ 3. -4. -1.]\n",
      " [ 4. -2.  1.]]\n",
      "2x6 [[-5. -3.  0.]\n",
      " [-4. -1.  2.]\n",
      " [-2.  1.  4.]]\n",
      "3x6 [[-3.  0.  2.]\n",
      " [-1.  2. -5.]\n",
      " [ 1.  4. -3.]]\n",
      "4x6 [[ 0.  2. -5.]\n",
      " [ 2. -5. -2.]\n",
      " [ 4. -3.  1.]]\n",
      "5x6 [[ 2. -5. -3.]\n",
      " [-5. -2.  1.]\n",
      " [-3.  1.  4.]]\n",
      "6x6 [[-5. -3.  0.]\n",
      " [-2.  1.  3.]\n",
      " [ 1.  4. -3.]]\n",
      "7x6 [[-3.  0.  2.]\n",
      " [ 1.  3. -4.]\n",
      " [ 4. -3.  0.]]\n",
      "0x7 [[ 0.  3. -4.]\n",
      " [ 1.  4. -2.]\n",
      " [ 2. -4. -1.]]\n",
      "1x7 [[ 3. -4. -1.]\n",
      " [ 4. -2.  1.]\n",
      " [-4. -1.  3.]]\n",
      "2x7 [[-4. -1.  2.]\n",
      " [-2.  1.  4.]\n",
      " [-1.  3. -3.]]\n",
      "3x7 [[-1.  2. -5.]\n",
      " [ 1.  4. -3.]\n",
      " [ 3. -3.  0.]]\n",
      "4x7 [[ 2. -5. -2.]\n",
      " [ 4. -3.  1.]\n",
      " [-3.  0.  4.]]\n",
      "5x7 [[-5. -2.  1.]\n",
      " [-3.  1.  4.]\n",
      " [ 0.  4. -3.]]\n",
      "6x7 [[-2.  1.  3.]\n",
      " [ 1.  4. -3.]\n",
      " [ 4. -3.  1.]]\n",
      "7x7 [[ 1.  3. -4.]\n",
      " [ 4. -3.  0.]\n",
      " [-3.  1. -5.]]\n"
     ]
    }
   ],
   "source": [
    "for rack, col, row in racks(grid, 3, 3):\n",
    "    print(f\"{col}x{row} {rack}\")"
   ]
  },
  {
   "cell_type": "code",
   "execution_count": 12,
   "metadata": {},
   "outputs": [],
   "source": [
    "def part_one():\n",
    "    grid = np.fromfunction(np.vectorize(power_level), (300, 300))\n",
    "    max_power = -sys.maxsize\n",
    "    max_rack = None\n",
    "    for rack, col, row in racks(grid, 3, 3):\n",
    "        power = np.sum(rack)\n",
    "        if power > max_power:\n",
    "            max_power = power\n",
    "            max_rack = (col, row)\n",
    "    return (max_power, max_rack)"
   ]
  },
  {
   "cell_type": "code",
   "execution_count": 13,
   "metadata": {},
   "outputs": [],
   "source": [
    "(max_power, max_rack) = part_one()"
   ]
  },
  {
   "cell_type": "code",
   "execution_count": 14,
   "metadata": {},
   "outputs": [
    {
     "data": {
      "text/plain": [
       "31.0"
      ]
     },
     "execution_count": 14,
     "metadata": {},
     "output_type": "execute_result"
    }
   ],
   "source": [
    "max_power"
   ]
  },
  {
   "cell_type": "code",
   "execution_count": 15,
   "metadata": {},
   "outputs": [
    {
     "data": {
      "text/plain": [
       "(49, 243)"
      ]
     },
     "execution_count": 15,
     "metadata": {},
     "output_type": "execute_result"
    }
   ],
   "source": [
    "max_rack"
   ]
  },
  {
   "cell_type": "code",
   "execution_count": null,
   "metadata": {},
   "outputs": [],
   "source": []
  }
 ],
 "metadata": {
  "kernelspec": {
   "display_name": "Python 3",
   "language": "python",
   "name": "python3"
  },
  "language_info": {
   "codemirror_mode": {
    "name": "ipython",
    "version": 3
   },
   "file_extension": ".py",
   "mimetype": "text/x-python",
   "name": "python",
   "nbconvert_exporter": "python",
   "pygments_lexer": "ipython3",
   "version": "3.7.1"
  }
 },
 "nbformat": 4,
 "nbformat_minor": 2
}
